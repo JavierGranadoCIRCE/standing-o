{
 "cells": [
  {
   "cell_type": "code",
   "execution_count": 15,
   "metadata": {},
   "outputs": [],
   "source": [
    "import pandas as pd"
   ]
  },
  {
   "cell_type": "code",
   "execution_count": 64,
   "metadata": {},
   "outputs": [],
   "source": [
    "data = pd.read_csv('./refined_dataset/B48_discharge_soh.csv')"
   ]
  },
  {
   "cell_type": "code",
   "execution_count": 65,
   "metadata": {},
   "outputs": [
    {
     "name": "stdout",
     "output_type": "stream",
     "text": [
      "       terminal_voltage  terminal_current  temperature  charge_current  \\\n",
      "0              4.161852          0.000703     5.772228          0.0004   \n",
      "1              4.161808          0.000472     5.814002          0.0002   \n",
      "2              3.964473         -0.998300     5.840134          0.9990   \n",
      "3              3.945445         -0.995347     5.885223          0.9990   \n",
      "4              3.931000         -0.997545     5.964959          0.9990   \n",
      "...                 ...               ...          ...             ...   \n",
      "23473          2.747684         -0.995920     9.808829          0.9988   \n",
      "23474          2.728848         -0.995814     9.952791          0.9990   \n",
      "23475          2.709891         -0.994098    10.098105          0.9990   \n",
      "23476          2.690437         -0.994723    10.154930          0.9990   \n",
      "23477          3.156990         -0.000437    10.208360          0.0006   \n",
      "\n",
      "       charge_voltage      time  capacity  cycle       SOH  gasSensor  \n",
      "0               0.000     0.000  1.507693      2  0.753847   0.369230  \n",
      "1               4.177     9.297  1.507693      2  0.753847   0.369230  \n",
      "2               3.426    23.265  1.507693      2  0.753847   0.369230  \n",
      "3               3.410    36.437  1.507693      2  0.753847   0.369230  \n",
      "4               3.398    49.609  1.507693      2  0.753847   0.369230  \n",
      "...               ...       ...       ...    ...       ...        ...  \n",
      "23473           2.239  4388.719  1.223127     72  0.611564   0.582654  \n",
      "23474           2.219  4404.188  1.223127     72  0.611564   0.582654  \n",
      "23475           2.200  4419.625  1.223127     72  0.611564   0.582654  \n",
      "23476           2.181  4435.047  1.223127     72  0.611564   0.582654  \n",
      "23477           0.000  4450.625  1.223127     72  0.611564   0.582654  \n",
      "\n",
      "[23478 rows x 10 columns]\n"
     ]
    }
   ],
   "source": [
    "\n",
    "# Load the dataset from a CSV file (replace 'your_data.csv' with your actual filename)\n",
    "\n",
    "# Define a function to modify gasSensor based on soh (replace with your desired proportionality)\n",
    "def modify_gas_sensor(soh_value):\n",
    "    # Example: Reduce gasSensor value by 50% as soh decreases\n",
    "    return (1-soh_value) * 1.5;\n",
    "\n",
    "\n",
    "# Apply the function to the gasSensor column\n",
    "data['gasSensor'] = data['SOH'].apply(modify_gas_sensor)\n",
    "\n",
    "# Print the data with the modified gasSensor column\n",
    "print(data)\n"
   ]
  },
  {
   "cell_type": "code",
   "execution_count": 66,
   "metadata": {},
   "outputs": [
    {
     "name": "stdout",
     "output_type": "stream",
     "text": [
      "       terminal_voltage  terminal_current  temperature  charge_current  \\\n",
      "0              4.161852          0.000703     5.772228          0.0004   \n",
      "1              4.161808          0.000472     5.814002          0.0002   \n",
      "2              3.964473         -0.998300     5.840134          0.9990   \n",
      "3              3.945445         -0.995347     5.885223          0.9990   \n",
      "4              3.931000         -0.997545     5.964959          0.9990   \n",
      "...                 ...               ...          ...             ...   \n",
      "23473          2.747684         -0.995920     9.808829          0.9988   \n",
      "23474          2.728848         -0.995814     9.952791          0.9990   \n",
      "23475          2.709891         -0.994098    10.098105          0.9990   \n",
      "23476          2.690437         -0.994723    10.154930          0.9990   \n",
      "23477          3.156990         -0.000437    10.208360          0.0006   \n",
      "\n",
      "       charge_voltage      time  capacity  cycle       SOH  gasSensor  \n",
      "0               0.000     0.000  1.507693      2  0.753847   0.369230  \n",
      "1               4.177     9.297  1.507693      2  0.753847   0.369230  \n",
      "2               3.426    23.265  1.507693      2  0.753847   0.369230  \n",
      "3               3.410    36.437  1.507693      2  0.753847   0.369230  \n",
      "4               3.398    49.609  1.507693      2  0.753847   0.369230  \n",
      "...               ...       ...       ...    ...       ...        ...  \n",
      "23473           2.239  4388.719  1.223127     72  0.611564   0.582654  \n",
      "23474           2.219  4404.188  1.223127     72  0.611564   0.582654  \n",
      "23475           2.200  4419.625  1.223127     72  0.611564   0.582654  \n",
      "23476           2.181  4435.047  1.223127     72  0.611564   0.582654  \n",
      "23477           0.000  4450.625  1.223127     72  0.611564   0.582654  \n",
      "\n",
      "[23478 rows x 10 columns]\n"
     ]
    }
   ],
   "source": [
    "print(data)"
   ]
  },
  {
   "cell_type": "code",
   "execution_count": 67,
   "metadata": {},
   "outputs": [],
   "source": [
    "data.to_csv(\"NB48.csv\",index=False);"
   ]
  },
  {
   "cell_type": "code",
   "execution_count": null,
   "metadata": {},
   "outputs": [],
   "source": []
  }
 ],
 "metadata": {
  "kernelspec": {
   "display_name": "Python 3",
   "language": "python",
   "name": "python3"
  },
  "language_info": {
   "codemirror_mode": {
    "name": "ipython",
    "version": 3
   },
   "file_extension": ".py",
   "mimetype": "text/x-python",
   "name": "python",
   "nbconvert_exporter": "python",
   "pygments_lexer": "ipython3",
   "version": "3.10.12"
  }
 },
 "nbformat": 4,
 "nbformat_minor": 2
}
