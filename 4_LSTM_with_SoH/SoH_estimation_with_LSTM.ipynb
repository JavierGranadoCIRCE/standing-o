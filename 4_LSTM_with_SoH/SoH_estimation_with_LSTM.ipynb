{
 "cells": [
  {
   "cell_type": "markdown",
   "metadata": {},
   "source": [
    "## 0.Import Packages"
   ]
  },
  {
   "cell_type": "code",
   "execution_count": 20,
   "metadata": {},
   "outputs": [],
   "source": [
    "import numpy as np\n",
    "import pandas as pd\n",
    "import matplotlib.pyplot as plt\n",
    "import tensorflow as tf\n",
    "import keras\n",
    "import os\n",
    "import glob\n",
    "import seaborn as sns\n",
    "from mpl_toolkits.mplot3d import Axes3D\n",
    "import math\n",
    "\n",
    "import tensorflow as tf\n",
    "from sklearn.preprocessing import MinMaxScaler\n",
    "from sklearn.metrics import mean_squared_error, mean_absolute_error\n",
    "from keras.preprocessing.sequence import TimeseriesGenerator\n",
    "from keras.models import Sequential\n",
    "from keras.layers import Dense, LSTM, SimpleRNN, Dropout\n",
    "from keras.optimizers import RMSprop\n",
    "from keras.callbacks import ModelCheckpoint, EarlyStopping\n",
    "from keras.models import model_from_json\n",
    "from keras import optimizers"
   ]
  },
  {
   "cell_type": "markdown",
   "metadata": {},
   "source": [
    "## 1. Load Dataset"
   ]
  },
  {
   "cell_type": "code",
   "execution_count": 21,
   "metadata": {
    "scrolled": true
   },
   "outputs": [
    {
     "name": "stdout",
     "output_type": "stream",
     "text": [
      "['B07_discharge_soh.csv', 'B05_discharge_soh.csv', 'B46_discharge_soh.csv', 'B48_discharge_soh.csv', 'B33_discharge_soh.csv', 'B34_discharge_soh.csv', 'B47_discharge_soh.csv', 'B18_discharge_soh.csv']\n",
      "The number of dataset : 8\n"
     ]
    }
   ],
   "source": [
    "dir = 'refined_dataset'\n",
    "listdir = os.listdir(dir)\n",
    "\n",
    "print(listdir)\n",
    "print(\"The number of dataset :\", len(listdir))"
   ]
  },
  {
   "cell_type": "code",
   "execution_count": 22,
   "metadata": {},
   "outputs": [],
   "source": [
    "num = ['B05', 'B07', 'B18', 'B33', 'B34', 'B46', 'B47', 'B48']\n",
    "for i in range(len(listdir)):\n",
    "    vector = np.zeros((1,3))\n",
    "    path = os.path.join(os.getcwd(), 'refined_dataset/', num[i] + '_discharge_soh.csv')\n",
    "    csv = pd.read_csv(path)\n",
    "    df = pd.DataFrame(csv)\n",
    "    \n",
    "    vec = df[['cycle', 'capacity', 'SOH']]\n",
    "    \n",
    "    globals()['data_{}'.format(num[i])] = vec"
   ]
  },
  {
   "cell_type": "code",
   "execution_count": 23,
   "metadata": {
    "scrolled": false
   },
   "outputs": [
    {
     "data": {
      "text/html": [
       "<div>\n",
       "<style scoped>\n",
       "    .dataframe tbody tr th:only-of-type {\n",
       "        vertical-align: middle;\n",
       "    }\n",
       "\n",
       "    .dataframe tbody tr th {\n",
       "        vertical-align: top;\n",
       "    }\n",
       "\n",
       "    .dataframe thead th {\n",
       "        text-align: right;\n",
       "    }\n",
       "</style>\n",
       "<table border=\"1\" class=\"dataframe\">\n",
       "  <thead>\n",
       "    <tr style=\"text-align: right;\">\n",
       "      <th></th>\n",
       "      <th>terminal_voltage</th>\n",
       "      <th>terminal_current</th>\n",
       "      <th>temperature</th>\n",
       "      <th>charge_current</th>\n",
       "      <th>charge_voltage</th>\n",
       "      <th>time</th>\n",
       "      <th>capacity</th>\n",
       "      <th>cycle</th>\n",
       "      <th>SOH</th>\n",
       "    </tr>\n",
       "  </thead>\n",
       "  <tbody>\n",
       "    <tr>\n",
       "      <th>0</th>\n",
       "      <td>4.191492</td>\n",
       "      <td>-0.004902</td>\n",
       "      <td>24.330034</td>\n",
       "      <td>-0.0006</td>\n",
       "      <td>0.000</td>\n",
       "      <td>0.000</td>\n",
       "      <td>1.856487</td>\n",
       "      <td>1</td>\n",
       "      <td>0.928244</td>\n",
       "    </tr>\n",
       "    <tr>\n",
       "      <th>1</th>\n",
       "      <td>4.190749</td>\n",
       "      <td>-0.001478</td>\n",
       "      <td>24.325993</td>\n",
       "      <td>-0.0006</td>\n",
       "      <td>4.206</td>\n",
       "      <td>16.781</td>\n",
       "      <td>1.856487</td>\n",
       "      <td>1</td>\n",
       "      <td>0.928244</td>\n",
       "    </tr>\n",
       "    <tr>\n",
       "      <th>2</th>\n",
       "      <td>3.974871</td>\n",
       "      <td>-2.012528</td>\n",
       "      <td>24.389085</td>\n",
       "      <td>-1.9982</td>\n",
       "      <td>3.062</td>\n",
       "      <td>35.703</td>\n",
       "      <td>1.856487</td>\n",
       "      <td>1</td>\n",
       "      <td>0.928244</td>\n",
       "    </tr>\n",
       "    <tr>\n",
       "      <th>3</th>\n",
       "      <td>3.951717</td>\n",
       "      <td>-2.013979</td>\n",
       "      <td>24.544752</td>\n",
       "      <td>-1.9982</td>\n",
       "      <td>3.030</td>\n",
       "      <td>53.781</td>\n",
       "      <td>1.856487</td>\n",
       "      <td>1</td>\n",
       "      <td>0.928244</td>\n",
       "    </tr>\n",
       "    <tr>\n",
       "      <th>4</th>\n",
       "      <td>3.934352</td>\n",
       "      <td>-2.011144</td>\n",
       "      <td>24.731385</td>\n",
       "      <td>-1.9982</td>\n",
       "      <td>3.011</td>\n",
       "      <td>71.922</td>\n",
       "      <td>1.856487</td>\n",
       "      <td>1</td>\n",
       "      <td>0.928244</td>\n",
       "    </tr>\n",
       "    <tr>\n",
       "      <th>...</th>\n",
       "      <td>...</td>\n",
       "      <td>...</td>\n",
       "      <td>...</td>\n",
       "      <td>...</td>\n",
       "      <td>...</td>\n",
       "      <td>...</td>\n",
       "      <td>...</td>\n",
       "      <td>...</td>\n",
       "      <td>...</td>\n",
       "    </tr>\n",
       "    <tr>\n",
       "      <th>50280</th>\n",
       "      <td>3.579262</td>\n",
       "      <td>-0.001569</td>\n",
       "      <td>34.864823</td>\n",
       "      <td>0.0006</td>\n",
       "      <td>0.000</td>\n",
       "      <td>2781.312</td>\n",
       "      <td>1.325079</td>\n",
       "      <td>168</td>\n",
       "      <td>0.662540</td>\n",
       "    </tr>\n",
       "    <tr>\n",
       "      <th>50281</th>\n",
       "      <td>3.581964</td>\n",
       "      <td>-0.003067</td>\n",
       "      <td>34.814770</td>\n",
       "      <td>0.0006</td>\n",
       "      <td>0.000</td>\n",
       "      <td>2791.062</td>\n",
       "      <td>1.325079</td>\n",
       "      <td>168</td>\n",
       "      <td>0.662540</td>\n",
       "    </tr>\n",
       "    <tr>\n",
       "      <th>50282</th>\n",
       "      <td>3.584484</td>\n",
       "      <td>-0.003079</td>\n",
       "      <td>34.676258</td>\n",
       "      <td>0.0006</td>\n",
       "      <td>0.000</td>\n",
       "      <td>2800.828</td>\n",
       "      <td>1.325079</td>\n",
       "      <td>168</td>\n",
       "      <td>0.662540</td>\n",
       "    </tr>\n",
       "    <tr>\n",
       "      <th>50283</th>\n",
       "      <td>3.587336</td>\n",
       "      <td>0.001219</td>\n",
       "      <td>34.565580</td>\n",
       "      <td>0.0006</td>\n",
       "      <td>0.000</td>\n",
       "      <td>2810.640</td>\n",
       "      <td>1.325079</td>\n",
       "      <td>168</td>\n",
       "      <td>0.662540</td>\n",
       "    </tr>\n",
       "    <tr>\n",
       "      <th>50284</th>\n",
       "      <td>3.589937</td>\n",
       "      <td>-0.000583</td>\n",
       "      <td>34.405920</td>\n",
       "      <td>0.0006</td>\n",
       "      <td>0.000</td>\n",
       "      <td>2820.390</td>\n",
       "      <td>1.325079</td>\n",
       "      <td>168</td>\n",
       "      <td>0.662540</td>\n",
       "    </tr>\n",
       "  </tbody>\n",
       "</table>\n",
       "<p>50285 rows × 9 columns</p>\n",
       "</div>"
      ],
      "text/plain": [
       "       terminal_voltage  terminal_current  temperature  charge_current  \\\n",
       "0              4.191492         -0.004902    24.330034         -0.0006   \n",
       "1              4.190749         -0.001478    24.325993         -0.0006   \n",
       "2              3.974871         -2.012528    24.389085         -1.9982   \n",
       "3              3.951717         -2.013979    24.544752         -1.9982   \n",
       "4              3.934352         -2.011144    24.731385         -1.9982   \n",
       "...                 ...               ...          ...             ...   \n",
       "50280          3.579262         -0.001569    34.864823          0.0006   \n",
       "50281          3.581964         -0.003067    34.814770          0.0006   \n",
       "50282          3.584484         -0.003079    34.676258          0.0006   \n",
       "50283          3.587336          0.001219    34.565580          0.0006   \n",
       "50284          3.589937         -0.000583    34.405920          0.0006   \n",
       "\n",
       "       charge_voltage      time  capacity  cycle       SOH  \n",
       "0               0.000     0.000  1.856487      1  0.928244  \n",
       "1               4.206    16.781  1.856487      1  0.928244  \n",
       "2               3.062    35.703  1.856487      1  0.928244  \n",
       "3               3.030    53.781  1.856487      1  0.928244  \n",
       "4               3.011    71.922  1.856487      1  0.928244  \n",
       "...               ...       ...       ...    ...       ...  \n",
       "50280           0.000  2781.312  1.325079    168  0.662540  \n",
       "50281           0.000  2791.062  1.325079    168  0.662540  \n",
       "50282           0.000  2800.828  1.325079    168  0.662540  \n",
       "50283           0.000  2810.640  1.325079    168  0.662540  \n",
       "50284           0.000  2820.390  1.325079    168  0.662540  \n",
       "\n",
       "[50285 rows x 9 columns]"
      ]
     },
     "execution_count": 23,
     "metadata": {},
     "output_type": "execute_result"
    }
   ],
   "source": [
    "data = pd.read_csv('refined_dataset/B05_discharge_soh.csv')\n",
    "df = pd.DataFrame(data)\n",
    "df"
   ]
  },
  {
   "cell_type": "code",
   "execution_count": 24,
   "metadata": {},
   "outputs": [
    {
     "data": {
      "text/html": [
       "<div>\n",
       "<style scoped>\n",
       "    .dataframe tbody tr th:only-of-type {\n",
       "        vertical-align: middle;\n",
       "    }\n",
       "\n",
       "    .dataframe tbody tr th {\n",
       "        vertical-align: top;\n",
       "    }\n",
       "\n",
       "    .dataframe thead th {\n",
       "        text-align: right;\n",
       "    }\n",
       "</style>\n",
       "<table border=\"1\" class=\"dataframe\">\n",
       "  <thead>\n",
       "    <tr style=\"text-align: right;\">\n",
       "      <th></th>\n",
       "      <th>cycle</th>\n",
       "      <th>capacity</th>\n",
       "      <th>SOH</th>\n",
       "    </tr>\n",
       "  </thead>\n",
       "  <tbody>\n",
       "    <tr>\n",
       "      <th>0</th>\n",
       "      <td>1</td>\n",
       "      <td>1.856487</td>\n",
       "      <td>0.928244</td>\n",
       "    </tr>\n",
       "    <tr>\n",
       "      <th>1</th>\n",
       "      <td>1</td>\n",
       "      <td>1.856487</td>\n",
       "      <td>0.928244</td>\n",
       "    </tr>\n",
       "    <tr>\n",
       "      <th>2</th>\n",
       "      <td>1</td>\n",
       "      <td>1.856487</td>\n",
       "      <td>0.928244</td>\n",
       "    </tr>\n",
       "    <tr>\n",
       "      <th>3</th>\n",
       "      <td>1</td>\n",
       "      <td>1.856487</td>\n",
       "      <td>0.928244</td>\n",
       "    </tr>\n",
       "    <tr>\n",
       "      <th>4</th>\n",
       "      <td>1</td>\n",
       "      <td>1.856487</td>\n",
       "      <td>0.928244</td>\n",
       "    </tr>\n",
       "    <tr>\n",
       "      <th>...</th>\n",
       "      <td>...</td>\n",
       "      <td>...</td>\n",
       "      <td>...</td>\n",
       "    </tr>\n",
       "    <tr>\n",
       "      <th>50280</th>\n",
       "      <td>168</td>\n",
       "      <td>1.325079</td>\n",
       "      <td>0.662540</td>\n",
       "    </tr>\n",
       "    <tr>\n",
       "      <th>50281</th>\n",
       "      <td>168</td>\n",
       "      <td>1.325079</td>\n",
       "      <td>0.662540</td>\n",
       "    </tr>\n",
       "    <tr>\n",
       "      <th>50282</th>\n",
       "      <td>168</td>\n",
       "      <td>1.325079</td>\n",
       "      <td>0.662540</td>\n",
       "    </tr>\n",
       "    <tr>\n",
       "      <th>50283</th>\n",
       "      <td>168</td>\n",
       "      <td>1.325079</td>\n",
       "      <td>0.662540</td>\n",
       "    </tr>\n",
       "    <tr>\n",
       "      <th>50284</th>\n",
       "      <td>168</td>\n",
       "      <td>1.325079</td>\n",
       "      <td>0.662540</td>\n",
       "    </tr>\n",
       "  </tbody>\n",
       "</table>\n",
       "<p>50285 rows × 3 columns</p>\n",
       "</div>"
      ],
      "text/plain": [
       "       cycle  capacity       SOH\n",
       "0          1  1.856487  0.928244\n",
       "1          1  1.856487  0.928244\n",
       "2          1  1.856487  0.928244\n",
       "3          1  1.856487  0.928244\n",
       "4          1  1.856487  0.928244\n",
       "...      ...       ...       ...\n",
       "50280    168  1.325079  0.662540\n",
       "50281    168  1.325079  0.662540\n",
       "50282    168  1.325079  0.662540\n",
       "50283    168  1.325079  0.662540\n",
       "50284    168  1.325079  0.662540\n",
       "\n",
       "[50285 rows x 3 columns]"
      ]
     },
     "execution_count": 24,
     "metadata": {},
     "output_type": "execute_result"
    }
   ],
   "source": [
    "data_B05  ## result"
   ]
  },
  {
   "cell_type": "code",
   "execution_count": 25,
   "metadata": {
    "scrolled": true
   },
   "outputs": [
    {
     "name": "stdout",
     "output_type": "stream",
     "text": [
      "Shape of data : (50285, 3)\n",
      "Shape of data : (50285, 3)\n",
      "Shape of data : (34866, 3)\n",
      "Shape of data : (42200, 3)\n",
      "Shape of data : (45909, 3)\n",
      "Shape of data : (23478, 3)\n",
      "Shape of data : (23478, 3)\n",
      "Shape of data : (23478, 3)\n"
     ]
    }
   ],
   "source": [
    "for i in range(len(listdir)):\n",
    "    print(\"Shape of data :\", np.shape(globals()['data_{}'.format(num[i])]))"
   ]
  },
  {
   "cell_type": "code",
   "execution_count": 26,
   "metadata": {
    "scrolled": true
   },
   "outputs": [
    {
     "name": "stdout",
     "output_type": "stream",
     "text": [
      "['B07_discharge_soh.csv', 'B05_discharge_soh.csv', 'B46_discharge_soh.csv', 'B48_discharge_soh.csv', 'B33_discharge_soh.csv', 'B34_discharge_soh.csv', 'B47_discharge_soh.csv', 'B18_discharge_soh.csv']\n"
     ]
    },
    {
     "data": {
      "text/plain": [
       "(23478, 1)"
      ]
     },
     "execution_count": 26,
     "metadata": {},
     "output_type": "execute_result"
    }
   ],
   "source": [
    "print(listdir)\n",
    "dataset = data_B48[\"SOH\"]\n",
    "cycle = data_B48['cycle']\n",
    "\n",
    "dataset = np.array(dataset)\n",
    "dataset = dataset.reshape((len(dataset),1))\n",
    "dataset.shape"
   ]
  },
  {
   "cell_type": "markdown",
   "metadata": {},
   "source": [
    "## 2. Split train and test dataset"
   ]
  },
  {
   "cell_type": "code",
   "execution_count": 27,
   "metadata": {},
   "outputs": [
    {
     "name": "stdout",
     "output_type": "stream",
     "text": [
      "11739 11739\n"
     ]
    }
   ],
   "source": [
    "train_size = int(len(dataset) * 0.5)\n",
    "# train_size = int(len(dataset) * 0.5)\n",
    "test_size = len(dataset) - train_size\n",
    "train, test = dataset[0:train_size,:], dataset[train_size:len(dataset),:]\n",
    "print(len(train), len(test))"
   ]
  },
  {
   "cell_type": "code",
   "execution_count": 28,
   "metadata": {
    "scrolled": true
   },
   "outputs": [],
   "source": [
    "def create_dataset(dataset, look_back=1):\n",
    "    dataX, dataY = [], []\n",
    "    for i in range(len(dataset) - look_back):\n",
    "        a = dataset[i:(i + look_back), 0]\n",
    "        dataX.append(a)\n",
    "        dataY.append(dataset[i + look_back, 0])\n",
    "    print(len(dataY))\n",
    "    return np.array(dataX), np.array(dataY)"
   ]
  },
  {
   "cell_type": "code",
   "execution_count": 29,
   "metadata": {},
   "outputs": [
    {
     "name": "stdout",
     "output_type": "stream",
     "text": [
      "11738\n",
      "11738\n"
     ]
    }
   ],
   "source": [
    "look_back = 1\n",
    "trainX, trainY = create_dataset(train, look_back)\n",
    "testX, testY = create_dataset(test, look_back)"
   ]
  },
  {
   "cell_type": "code",
   "execution_count": 30,
   "metadata": {},
   "outputs": [
    {
     "name": "stdout",
     "output_type": "stream",
     "text": [
      "(11738, 1, 1)\n",
      "(11738, 1, 1)\n"
     ]
    }
   ],
   "source": [
    "trainX = np.reshape(trainX, (trainX.shape[0], 1, trainX.shape[1]))\n",
    "testX = np.reshape(testX, (testX.shape[0], 1, testX.shape[1]))\n",
    "\n",
    "print(trainX.shape)\n",
    "print(testX.shape)"
   ]
  },
  {
   "cell_type": "markdown",
   "metadata": {},
   "source": [
    "## 3. Training with LSTM"
   ]
  },
  {
   "cell_type": "code",
   "execution_count": 31,
   "metadata": {},
   "outputs": [],
   "source": [
    "model = Sequential()\n",
    "model.add(LSTM(64, input_shape=(trainX.shape[1], trainX.shape[2])))\n",
    "\n",
    "model.add(Dense(1))\n",
    "\n",
    "model.compile(loss='mae', optimizer='adam')"
   ]
  },
  {
   "cell_type": "code",
   "execution_count": 32,
   "metadata": {
    "scrolled": true
   },
   "outputs": [
    {
     "name": "stdout",
     "output_type": "stream",
     "text": [
      "Epoch 1/100\n",
      "587/587 [==============================] - 5s 5ms/step - loss: 0.0614 - val_loss: 0.0085\n",
      "Epoch 2/100\n",
      "587/587 [==============================] - 2s 4ms/step - loss: 0.0039 - val_loss: 0.0082\n",
      "Epoch 3/100\n",
      "587/587 [==============================] - 2s 4ms/step - loss: 0.0041 - val_loss: 0.0081\n",
      "Epoch 4/100\n",
      "587/587 [==============================] - 2s 4ms/step - loss: 0.0041 - val_loss: 0.0081\n",
      "Epoch 5/100\n",
      "587/587 [==============================] - 2s 4ms/step - loss: 0.0038 - val_loss: 0.0080\n",
      "Epoch 6/100\n",
      "587/587 [==============================] - 2s 4ms/step - loss: 0.0037 - val_loss: 0.0080\n",
      "Epoch 7/100\n",
      "587/587 [==============================] - 2s 4ms/step - loss: 0.0039 - val_loss: 0.0083\n",
      "Epoch 8/100\n",
      "587/587 [==============================] - 2s 4ms/step - loss: 0.0033 - val_loss: 0.0079\n",
      "Epoch 9/100\n",
      "587/587 [==============================] - 2s 4ms/step - loss: 0.0037 - val_loss: 0.0080\n",
      "Epoch 10/100\n",
      "587/587 [==============================] - 2s 4ms/step - loss: 0.0034 - val_loss: 0.0079\n",
      "Epoch 11/100\n",
      "587/587 [==============================] - 3s 5ms/step - loss: 0.0036 - val_loss: 0.0083\n",
      "Epoch 12/100\n",
      "587/587 [==============================] - 2s 4ms/step - loss: 0.0033 - val_loss: 0.0079\n",
      "Epoch 13/100\n",
      "587/587 [==============================] - 2s 4ms/step - loss: 0.0037 - val_loss: 0.0079\n",
      "Epoch 14/100\n",
      "587/587 [==============================] - 3s 4ms/step - loss: 0.0039 - val_loss: 0.0078\n",
      "Epoch 15/100\n",
      "587/587 [==============================] - 2s 4ms/step - loss: 0.0035 - val_loss: 0.0078\n",
      "Epoch 16/100\n",
      "587/587 [==============================] - 2s 4ms/step - loss: 0.0033 - val_loss: 0.0077\n",
      "Epoch 17/100\n",
      "587/587 [==============================] - 2s 4ms/step - loss: 0.0036 - val_loss: 0.0077\n",
      "Epoch 18/100\n",
      "587/587 [==============================] - 2s 4ms/step - loss: 0.0039 - val_loss: 0.0077\n",
      "Epoch 19/100\n",
      "587/587 [==============================] - 2s 4ms/step - loss: 0.0031 - val_loss: 0.0078\n",
      "Epoch 20/100\n",
      "587/587 [==============================] - 2s 3ms/step - loss: 0.0034 - val_loss: 0.0077\n",
      "Epoch 21/100\n",
      "587/587 [==============================] - 2s 4ms/step - loss: 0.0037 - val_loss: 0.0082\n",
      "Epoch 22/100\n",
      "587/587 [==============================] - 2s 4ms/step - loss: 0.0034 - val_loss: 0.0078\n",
      "Epoch 23/100\n",
      "587/587 [==============================] - 2s 4ms/step - loss: 0.0034 - val_loss: 0.0076\n",
      "Epoch 24/100\n",
      "587/587 [==============================] - 2s 4ms/step - loss: 0.0037 - val_loss: 0.0076\n",
      "Epoch 25/100\n",
      "587/587 [==============================] - 3s 5ms/step - loss: 0.0035 - val_loss: 0.0077\n",
      "Epoch 26/100\n",
      "587/587 [==============================] - 3s 5ms/step - loss: 0.0036 - val_loss: 0.0077\n",
      "Epoch 27/100\n",
      "587/587 [==============================] - 2s 4ms/step - loss: 0.0036 - val_loss: 0.0078\n",
      "Epoch 28/100\n",
      "587/587 [==============================] - 2s 4ms/step - loss: 0.0036 - val_loss: 0.0078\n",
      "Epoch 29/100\n",
      "587/587 [==============================] - 3s 4ms/step - loss: 0.0036 - val_loss: 0.0076\n",
      "Epoch 30/100\n",
      "587/587 [==============================] - 2s 4ms/step - loss: 0.0031 - val_loss: 0.0076\n",
      "Epoch 31/100\n",
      "587/587 [==============================] - 2s 4ms/step - loss: 0.0037 - val_loss: 0.0076\n",
      "Epoch 32/100\n",
      "587/587 [==============================] - 2s 4ms/step - loss: 0.0035 - val_loss: 0.0076\n",
      "Epoch 33/100\n",
      "587/587 [==============================] - 3s 4ms/step - loss: 0.0036 - val_loss: 0.0079\n",
      "Epoch 34/100\n",
      "587/587 [==============================] - 3s 5ms/step - loss: 0.0033 - val_loss: 0.0075\n",
      "Epoch 35/100\n",
      "587/587 [==============================] - 3s 4ms/step - loss: 0.0032 - val_loss: 0.0075\n",
      "Epoch 36/100\n",
      "587/587 [==============================] - 3s 5ms/step - loss: 0.0035 - val_loss: 0.0076\n",
      "Epoch 37/100\n",
      "587/587 [==============================] - 3s 5ms/step - loss: 0.0031 - val_loss: 0.0075\n",
      "Epoch 38/100\n",
      "587/587 [==============================] - 3s 5ms/step - loss: 0.0036 - val_loss: 0.0075\n",
      "Epoch 39/100\n",
      "587/587 [==============================] - 3s 5ms/step - loss: 0.0030 - val_loss: 0.0082\n",
      "Epoch 40/100\n",
      "587/587 [==============================] - 3s 5ms/step - loss: 0.0034 - val_loss: 0.0075\n",
      "Epoch 41/100\n",
      "587/587 [==============================] - 3s 5ms/step - loss: 0.0033 - val_loss: 0.0075\n",
      "Epoch 42/100\n",
      "587/587 [==============================] - 3s 5ms/step - loss: 0.0035 - val_loss: 0.0075\n",
      "Epoch 43/100\n",
      "587/587 [==============================] - 3s 5ms/step - loss: 0.0033 - val_loss: 0.0075\n",
      "Epoch 44/100\n",
      "587/587 [==============================] - 3s 5ms/step - loss: 0.0036 - val_loss: 0.0078\n",
      "Epoch 45/100\n",
      "587/587 [==============================] - 3s 5ms/step - loss: 0.0037 - val_loss: 0.0077\n",
      "Epoch 46/100\n",
      "587/587 [==============================] - 3s 5ms/step - loss: 0.0030 - val_loss: 0.0077\n",
      "Epoch 47/100\n",
      "587/587 [==============================] - 3s 5ms/step - loss: 0.0031 - val_loss: 0.0074\n",
      "Epoch 48/100\n",
      "587/587 [==============================] - 3s 5ms/step - loss: 0.0034 - val_loss: 0.0075\n",
      "Epoch 49/100\n",
      "587/587 [==============================] - 3s 4ms/step - loss: 0.0035 - val_loss: 0.0074\n",
      "Epoch 50/100\n",
      "587/587 [==============================] - 3s 5ms/step - loss: 0.0037 - val_loss: 0.0075\n",
      "Epoch 51/100\n",
      "587/587 [==============================] - 3s 5ms/step - loss: 0.0032 - val_loss: 0.0076\n",
      "Epoch 52/100\n",
      "587/587 [==============================] - 3s 5ms/step - loss: 0.0032 - val_loss: 0.0073\n",
      "Epoch 53/100\n",
      "587/587 [==============================] - 3s 5ms/step - loss: 0.0030 - val_loss: 0.0074\n",
      "Epoch 54/100\n",
      "587/587 [==============================] - 3s 4ms/step - loss: 0.0035 - val_loss: 0.0073\n",
      "Epoch 55/100\n",
      "587/587 [==============================] - 3s 5ms/step - loss: 0.0036 - val_loss: 0.0073\n",
      "Epoch 56/100\n",
      "587/587 [==============================] - 3s 5ms/step - loss: 0.0031 - val_loss: 0.0076\n",
      "Epoch 57/100\n",
      "587/587 [==============================] - 3s 5ms/step - loss: 0.0030 - val_loss: 0.0074\n",
      "Epoch 58/100\n",
      "587/587 [==============================] - 3s 5ms/step - loss: 0.0036 - val_loss: 0.0073\n",
      "Epoch 59/100\n",
      "587/587 [==============================] - 3s 5ms/step - loss: 0.0031 - val_loss: 0.0075\n",
      "Epoch 60/100\n",
      "587/587 [==============================] - 3s 5ms/step - loss: 0.0034 - val_loss: 0.0076\n",
      "Epoch 61/100\n",
      "587/587 [==============================] - 3s 5ms/step - loss: 0.0033 - val_loss: 0.0073\n",
      "Epoch 62/100\n",
      "587/587 [==============================] - 3s 5ms/step - loss: 0.0032 - val_loss: 0.0075\n",
      "Epoch 63/100\n",
      "587/587 [==============================] - 3s 5ms/step - loss: 0.0031 - val_loss: 0.0076\n",
      "Epoch 64/100\n",
      "587/587 [==============================] - 3s 5ms/step - loss: 0.0035 - val_loss: 0.0075\n",
      "Epoch 65/100\n",
      "587/587 [==============================] - 3s 6ms/step - loss: 0.0034 - val_loss: 0.0074\n",
      "Epoch 66/100\n",
      "587/587 [==============================] - 3s 5ms/step - loss: 0.0030 - val_loss: 0.0073\n",
      "Epoch 67/100\n",
      "587/587 [==============================] - 3s 5ms/step - loss: 0.0034 - val_loss: 0.0073\n",
      "Epoch 68/100\n",
      "587/587 [==============================] - 3s 5ms/step - loss: 0.0036 - val_loss: 0.0073\n",
      "Epoch 69/100\n",
      "587/587 [==============================] - 3s 5ms/step - loss: 0.0031 - val_loss: 0.0073\n",
      "Epoch 70/100\n",
      "587/587 [==============================] - 3s 5ms/step - loss: 0.0032 - val_loss: 0.0076\n",
      "Epoch 71/100\n",
      "587/587 [==============================] - 3s 5ms/step - loss: 0.0033 - val_loss: 0.0076\n",
      "Epoch 72/100\n",
      "587/587 [==============================] - 3s 5ms/step - loss: 0.0035 - val_loss: 0.0076\n",
      "Epoch 73/100\n",
      "587/587 [==============================] - 3s 5ms/step - loss: 0.0034 - val_loss: 0.0073\n",
      "Epoch 74/100\n",
      "587/587 [==============================] - 3s 5ms/step - loss: 0.0034 - val_loss: 0.0074\n",
      "Epoch 75/100\n",
      "587/587 [==============================] - 3s 5ms/step - loss: 0.0036 - val_loss: 0.0073\n",
      "Epoch 76/100\n",
      "587/587 [==============================] - 3s 5ms/step - loss: 0.0034 - val_loss: 0.0073\n",
      "Epoch 77/100\n",
      "587/587 [==============================] - 3s 5ms/step - loss: 0.0033 - val_loss: 0.0073\n",
      "Epoch 78/100\n",
      "587/587 [==============================] - 3s 5ms/step - loss: 0.0033 - val_loss: 0.0072\n",
      "Epoch 79/100\n",
      "587/587 [==============================] - 3s 5ms/step - loss: 0.0037 - val_loss: 0.0075\n",
      "Epoch 80/100\n",
      "587/587 [==============================] - 3s 5ms/step - loss: 0.0033 - val_loss: 0.0072\n",
      "Epoch 81/100\n",
      "587/587 [==============================] - 3s 5ms/step - loss: 0.0029 - val_loss: 0.0074\n",
      "Epoch 82/100\n",
      "587/587 [==============================] - 3s 5ms/step - loss: 0.0032 - val_loss: 0.0072\n",
      "Epoch 83/100\n",
      "587/587 [==============================] - 3s 5ms/step - loss: 0.0033 - val_loss: 0.0073\n",
      "Epoch 84/100\n",
      "587/587 [==============================] - 3s 4ms/step - loss: 0.0032 - val_loss: 0.0072\n",
      "Epoch 85/100\n",
      "587/587 [==============================] - 3s 5ms/step - loss: 0.0035 - val_loss: 0.0077\n",
      "Epoch 86/100\n",
      "587/587 [==============================] - 3s 5ms/step - loss: 0.0031 - val_loss: 0.0072\n",
      "Epoch 87/100\n",
      "587/587 [==============================] - 3s 5ms/step - loss: 0.0030 - val_loss: 0.0073\n",
      "Epoch 88/100\n",
      "587/587 [==============================] - 3s 5ms/step - loss: 0.0031 - val_loss: 0.0071\n",
      "Epoch 89/100\n",
      "587/587 [==============================] - 3s 5ms/step - loss: 0.0031 - val_loss: 0.0072\n",
      "Epoch 90/100\n",
      "587/587 [==============================] - 3s 5ms/step - loss: 0.0033 - val_loss: 0.0073\n",
      "Epoch 91/100\n",
      "587/587 [==============================] - 3s 5ms/step - loss: 0.0029 - val_loss: 0.0072\n",
      "Epoch 92/100\n",
      "587/587 [==============================] - 3s 5ms/step - loss: 0.0031 - val_loss: 0.0073\n",
      "Epoch 93/100\n",
      "587/587 [==============================] - 3s 5ms/step - loss: 0.0033 - val_loss: 0.0072\n",
      "Epoch 94/100\n",
      "587/587 [==============================] - 3s 5ms/step - loss: 0.0033 - val_loss: 0.0074\n",
      "Epoch 95/100\n",
      "587/587 [==============================] - 3s 5ms/step - loss: 0.0030 - val_loss: 0.0072\n",
      "Epoch 96/100\n",
      "587/587 [==============================] - 3s 5ms/step - loss: 0.0034 - val_loss: 0.0075\n",
      "Epoch 97/100\n",
      "587/587 [==============================] - 3s 5ms/step - loss: 0.0031 - val_loss: 0.0072\n",
      "Epoch 98/100\n",
      "587/587 [==============================] - 3s 6ms/step - loss: 0.0031 - val_loss: 0.0073\n",
      "Epoch 99/100\n",
      "587/587 [==============================] - 3s 5ms/step - loss: 0.0027 - val_loss: 0.0072\n",
      "Epoch 100/100\n",
      "587/587 [==============================] - 3s 5ms/step - loss: 0.0030 - val_loss: 0.0072\n"
     ]
    }
   ],
   "source": [
    "history = model.fit(trainX, trainY, epochs=100, batch_size=20, validation_data=(testX, testY), verbose=1, shuffle = False)"
   ]
  },
  {
   "cell_type": "code",
   "execution_count": 35,
   "metadata": {},
   "outputs": [],
   "source": [
    "# save model architecture\n",
    "model_json = model.to_json()\n",
    "open('50%/model/B48_model.json', 'w').write(model_json)\n",
    "\n",
    "# save model's learned weights\n",
    "model.save_weights('50%/model/B48_weights.h5', overwrite=True)"
   ]
  },
  {
   "cell_type": "code",
   "execution_count": 36,
   "metadata": {},
   "outputs": [
    {
     "name": "stdout",
     "output_type": "stream",
     "text": [
      "Loaded model from disk\n"
     ]
    }
   ],
   "source": [
    "# Load trained model\n",
    "from keras.models import model_from_json \n",
    "\n",
    "json_file = open(\"50%/model/B48_model.json\", \"r\")\n",
    "loaded_model_json = json_file.read() \n",
    "json_file.close()\n",
    "loaded_model = model_from_json(loaded_model_json)\n",
    " \n",
    "# model weight load \n",
    "loaded_model.load_weights(\"50%/model/B48_weights.h5\")\n",
    "print(\"Loaded model from disk\")"
   ]
  },
  {
   "cell_type": "code",
   "execution_count": 37,
   "metadata": {
    "scrolled": true
   },
   "outputs": [
    {
     "data": {
      "image/png": "[encoded data removed]",
      "text/plain": [
       "<Figure size 640x480 with 1 Axes>"
      ]
     },
     "metadata": {},
     "output_type": "display_data"
    }
   ],
   "source": [
    "plt.plot(history.history['loss'], label='train')\n",
    "plt.plot(history.history['val_loss'], label='test')\n",
    "plt.axis([-5, 100, 0, 0.07])\n",
    "plt.legend() \n",
    "plt.show()"
   ]
  },
  {
   "cell_type": "code",
   "execution_count": 38,
   "metadata": {
    "scrolled": true
   },
   "outputs": [
    {
     "name": "stdout",
     "output_type": "stream",
     "text": [
      "367/367 [==============================] - 1s 2ms/step\n",
      "367/367 [==============================] - 1s 2ms/step\n"
     ]
    },
    {
     "data": {
      "image/png": "[encoded data removed]",
      "text/plain": [
       "<Figure size 640x480 with 1 Axes>"
      ]
     },
     "metadata": {},
     "output_type": "display_data"
    }
   ],
   "source": [
    "yhat = model.predict(testX)\n",
    "tyhat = model.predict(trainX)\n",
    "plt.plot(yhat, label='Prediction')\n",
    "plt.plot(testY, label='Real data')\n",
    "plt.legend()\n",
    "plt.show()"
   ]
  },
  {
   "cell_type": "code",
   "execution_count": 39,
   "metadata": {},
   "outputs": [
    {
     "name": "stdout",
     "output_type": "stream",
     "text": [
      "Shape of train data : (11738, 1, 1)\n",
      "Shape of prediction : (11738, 1)\n",
      "Shape of real data : (11738,)\n"
     ]
    }
   ],
   "source": [
    "print(\"Shape of train data :\", trainX.shape)\n",
    "print(\"Shape of prediction :\", yhat.shape)\n",
    "print(\"Shape of real data :\", testY.shape)"
   ]
  },
  {
   "cell_type": "code",
   "execution_count": 40,
   "metadata": {
    "scrolled": false
   },
   "outputs": [
    {
     "name": "stdout",
     "output_type": "stream",
     "text": [
      "Test RMSE: 0.009\n",
      "Test MAE: 0.007\n"
     ]
    }
   ],
   "source": [
    "rmse = math.sqrt(mean_squared_error(testY, yhat))\n",
    "mae = mean_absolute_error(testY, yhat)\n",
    "print('Test RMSE: %.3f' % rmse)\n",
    "print('Test MAE: %.3f' % mae)"
   ]
  },
  {
   "cell_type": "markdown",
   "metadata": {},
   "source": [
    "## 4. Visualization"
   ]
  },
  {
   "cell_type": "code",
   "execution_count": 41,
   "metadata": {},
   "outputs": [
    {
     "name": "stdout",
     "output_type": "stream",
     "text": [
      "Shape of cycle : (23478,)\n",
      "(11738,) (11738,)\n"
     ]
    }
   ],
   "source": [
    "print(\"Shape of cycle :\", np.shape(cycle))\n",
    "\n",
    "cycle1 = cycle[0:train_size-1]\n",
    "cycle2 = cycle[train_size+1:len(dataset)]\n",
    "\n",
    "# cycle1 = cycle[0:train_size]\n",
    "# cycle2 = cycle[train_size:len(dataset)]\n",
    "\n",
    "print(np.shape(cycle1), np.shape(cycle2))"
   ]
  },
  {
   "cell_type": "code",
   "execution_count": 42,
   "metadata": {
    "scrolled": true
   },
   "outputs": [
    {
     "data": {
      "image/png": "[encoded data removed]",
      "text/plain": [
       "<Figure size 1200x800 with 1 Axes>"
      ]
     },
     "metadata": {},
     "output_type": "display_data"
    }
   ],
   "source": [
    "sns.set_style(\"darkgrid\")\n",
    "plt.figure(figsize=(12, 8))\n",
    "\n",
    "plt.plot(cycle1, trainX[:,0],label='Used real data', linewidth = 3, color='r')\n",
    "plt.plot(cycle2, testY,label='Real data', linewidth = 3, color='b')\n",
    "# plt.plot(cycle2, yhat[:,0],label='LSTM Prediction', linewidth = 3, color='g')\n",
    "plt.plot(cycle2, yhat[:,0],label='LSTM Prediction', linewidth = 3, color='g')\n",
    "plt.legend(prop={'size': 16})\n",
    "\n",
    "plt.ylabel('SoH', fontsize = 15)\n",
    "plt.xlabel('Discharge cycle', fontsize = 15)\n",
    "plt.title(str(num[7]) + \" SOH Prediction\", fontsize = 15)\n",
    "plt.savefig('50%/fig/' + str(num[7]) + '_LSTM.jpg')\n",
    "plt.show()"
   ]
  },
  {
   "cell_type": "code",
   "execution_count": null,
   "metadata": {},
   "outputs": [],
   "source": []
  },
  {
   "cell_type": "code",
   "execution_count": null,
   "metadata": {},
   "outputs": [],
   "source": []
  }
 ],
 "metadata": {
  "kernelspec": {
   "display_name": "Python 3",
   "language": "python",
   "name": "python3"
  },
  "language_info": {
   "codemirror_mode": {
    "name": "ipython",
    "version": 3
   },
   "file_extension": ".py",
   "mimetype": "text/x-python",
   "name": "python",
   "nbconvert_exporter": "python",
   "pygments_lexer": "ipython3",
   "version": "3.10.12"
  }
 },
 "nbformat": 4,
 "nbformat_minor": 4
}
