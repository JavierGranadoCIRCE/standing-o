{
 "cells": [
  {
   "cell_type": "markdown",
   "metadata": {},
   "source": [
    "## Import Packages"
   ]
  },
  {
   "cell_type": "code",
   "execution_count": 64,
   "metadata": {},
   "outputs": [],
   "source": [
    "import numpy as np\n",
    "import pandas as pd\n",
    "import seaborn as sns\n",
    "import matplotlib.pyplot as plt\n",
    "import tensorflow as tf\n",
    "from sklearn.preprocessing import MinMaxScaler\n",
    "from sklearn.metrics import mean_squared_error, mean_absolute_error\n",
    "from keras.preprocessing.sequence import TimeseriesGenerator\n",
    "from keras.models import Sequential\n",
    "from keras.layers import Dense, LSTM, Dropout\n",
    "from keras.optimizers import RMSprop\n",
    "from keras.callbacks import ModelCheckpoint, EarlyStopping\n",
    "import os"
   ]
  },
  {
   "cell_type": "markdown",
   "metadata": {},
   "source": [
    "# Load Dataset"
   ]
  },
  {
   "cell_type": "code",
   "execution_count": 40,
   "metadata": {},
   "outputs": [
    {
     "name": "stdout",
     "output_type": "stream",
     "text": [
      "['B07_discharge_soh.csv', 'B05_discharge_soh.csv', 'B46_discharge_soh.csv', 'B48_discharge_soh.csv', 'B33_discharge_soh.csv', 'B34_discharge_soh.csv', 'B47_discharge_soh.csv', 'B18_discharge_soh.csv']\n",
      "The number of dataset : 8\n"
     ]
    }
   ],
   "source": [
    "dir = 'refined_dataset'\n",
    "listdir = os.listdir(dir)\n",
    "\n",
    "print(listdir)\n",
    "print(\"The number of dataset :\", len(listdir))"
   ]
  },
  {
   "cell_type": "code",
   "execution_count": 41,
   "metadata": {},
   "outputs": [],
   "source": [
    "num = ['B05', 'B07', 'B18', 'B33', 'B34', 'B46', 'B47', 'B48']\n",
    "for i in range(len(listdir)):\n",
    "    path = os.path.join(os.getcwd(), 'refined_dataset', num[i] + '_discharge_soh.csv')\n",
    "    df = pd.read_csv(path)\n",
    "    vec = df[['cycle', 'capacity', 'SOH', 'temperature']]\n",
    "    globals()['data_{}'.format(num[i])] = vec\n"
   ]
  },
  {
   "cell_type": "markdown",
   "metadata": {},
   "source": [
    "## Display the loaded data for B05 as an example"
   ]
  },
  {
   "cell_type": "code",
   "execution_count": 42,
   "metadata": {},
   "outputs": [
    {
     "name": "stdout",
     "output_type": "stream",
     "text": [
      "   cycle  capacity       SOH  temperature\n",
      "0      1  1.856487  0.928244    24.330034\n",
      "1      1  1.856487  0.928244    24.325993\n",
      "2      1  1.856487  0.928244    24.389085\n",
      "3      1  1.856487  0.928244    24.544752\n",
      "4      1  1.856487  0.928244    24.731385\n"
     ]
    }
   ],
   "source": [
    "data_B05 = globals()['data_B05']\n",
    "print(data_B05.head())"
   ]
  },
  {
   "cell_type": "markdown",
   "metadata": {},
   "source": [
    "## Print the shape of each datset"
   ]
  },
  {
   "cell_type": "code",
   "execution_count": 45,
   "metadata": {},
   "outputs": [
    {
     "name": "stdout",
     "output_type": "stream",
     "text": [
      "Shape of data_B05: (50285, 4)\n",
      "Shape of data_B07: (50285, 4)\n",
      "Shape of data_B18: (34866, 4)\n",
      "Shape of data_B33: (42200, 4)\n",
      "Shape of data_B34: (45909, 4)\n",
      "Shape of data_B46: (23478, 4)\n",
      "Shape of data_B47: (23478, 4)\n",
      "Shape of data_B48: (23478, 4)\n"
     ]
    }
   ],
   "source": [
    "for i in range(len(listdir)):\n",
    "    print(\"Shape of data_{}: {}\".format(num[i], np.shape(globals()['data_{}'.format(num[i])])))"
   ]
  },
  {
   "cell_type": "markdown",
   "metadata": {},
   "source": [
    "## Prepare the dataset for training and testing"
   ]
  },
  {
   "cell_type": "code",
   "execution_count": 46,
   "metadata": {},
   "outputs": [],
   "source": [
    "dataset = data_B05[['SOH', 'temperature']].values\n",
    "cycle = data_B05['cycle'].values"
   ]
  },
  {
   "cell_type": "markdown",
   "metadata": {},
   "source": [
    "## Normalize the Dataset"
   ]
  },
  {
   "cell_type": "code",
   "execution_count": 47,
   "metadata": {},
   "outputs": [],
   "source": [
    "scaler = MinMaxScaler(feature_range=(0, 1))\n",
    "dataset = scaler.fit_transform(dataset)"
   ]
  },
  {
   "cell_type": "markdown",
   "metadata": {},
   "source": [
    "## Split train and test dataset"
   ]
  },
  {
   "cell_type": "code",
   "execution_count": 48,
   "metadata": {},
   "outputs": [
    {
     "name": "stdout",
     "output_type": "stream",
     "text": [
      "11739 11739\n"
     ]
    }
   ],
   "source": [
    "train_size = int(len(dataset) * 0.5)\n",
    "test_size = len(dataset) - train_size\n",
    "train, test = dataset[0:train_size,:], dataset[train_size:len(dataset),:]\n",
    "\n",
    "print(len(train), len(test))"
   ]
  },
  {
   "cell_type": "markdown",
   "metadata": {},
   "source": [
    "## Create Dataset with look_back"
   ]
  },
  {
   "cell_type": "code",
   "execution_count": 49,
   "metadata": {},
   "outputs": [],
   "source": [
    "def create_dataset(dataset, look_back=1):\n",
    "    dataX, dataY = [], []\n",
    "    for i in range(len(dataset) - look_back):\n",
    "        a = dataset[i:(i + look_back), :]\n",
    "        dataX.append(a)\n",
    "        dataY.append(dataset[i + look_back, 0])  # SOH is the first column\n",
    "    return np.array(dataX), np.array(dataY)\n",
    "\n",
    "\n",
    "look_back = 1\n",
    "trainX, trainY = create_dataset(train, look_back)\n",
    "testX, testY = create_dataset(test, look_back)"
   ]
  },
  {
   "cell_type": "markdown",
   "metadata": {},
   "source": [
    "## Reshape input to be [samples,timeStamps , features]"
   ]
  },
  {
   "cell_type": "code",
   "execution_count": 50,
   "metadata": {},
   "outputs": [
    {
     "name": "stdout",
     "output_type": "stream",
     "text": [
      "(11738, 1, 2)\n",
      "(11738, 1, 2)\n"
     ]
    }
   ],
   "source": [
    "trainX = np.reshape(trainX, (trainX.shape[0], look_back, trainX.shape[2]))\n",
    "testX = np.reshape(testX, (testX.shape[0], look_back, testX.shape[2]))\n",
    "\n",
    "print(trainX.shape)\n",
    "print(testX.shape)\n"
   ]
  },
  {
   "cell_type": "markdown",
   "metadata": {},
   "source": [
    "## Training the LSTM model"
   ]
  },
  {
   "cell_type": "code",
   "execution_count": 51,
   "metadata": {},
   "outputs": [
    {
     "name": "stdout",
     "output_type": "stream",
     "text": [
      "Epoch 1/100\n",
      "587/587 [==============================] - 3s 3ms/step - loss: 0.1027 - val_loss: 0.0649\n",
      "Epoch 2/100\n",
      "587/587 [==============================] - 2s 3ms/step - loss: 0.0350 - val_loss: 0.0576\n",
      "Epoch 3/100\n",
      "587/587 [==============================] - 2s 3ms/step - loss: 0.0291 - val_loss: 0.0501\n",
      "Epoch 4/100\n",
      "587/587 [==============================] - 2s 3ms/step - loss: 0.0240 - val_loss: 0.0436\n",
      "Epoch 5/100\n",
      "587/587 [==============================] - 1s 2ms/step - loss: 0.0174 - val_loss: 0.0388\n",
      "Epoch 6/100\n",
      "587/587 [==============================] - 1s 2ms/step - loss: 0.0135 - val_loss: 0.0336\n",
      "Epoch 7/100\n",
      "587/587 [==============================] - 2s 3ms/step - loss: 0.0122 - val_loss: 0.0275\n",
      "Epoch 8/100\n",
      "587/587 [==============================] - 2s 3ms/step - loss: 0.0088 - val_loss: 0.0224\n",
      "Epoch 9/100\n",
      "587/587 [==============================] - 2s 3ms/step - loss: 0.0062 - val_loss: 0.0183\n",
      "Epoch 10/100\n",
      "587/587 [==============================] - 2s 3ms/step - loss: 0.0041 - val_loss: 0.0159\n",
      "Epoch 11/100\n",
      "587/587 [==============================] - 2s 3ms/step - loss: 0.0034 - val_loss: 0.0134\n",
      "Epoch 12/100\n",
      "587/587 [==============================] - 2s 3ms/step - loss: 0.0026 - val_loss: 0.0115\n",
      "Epoch 13/100\n",
      "587/587 [==============================] - 2s 3ms/step - loss: 0.0023 - val_loss: 0.0103\n",
      "Epoch 14/100\n",
      "587/587 [==============================] - 2s 3ms/step - loss: 0.0020 - val_loss: 0.0097\n",
      "Epoch 15/100\n",
      "587/587 [==============================] - 2s 3ms/step - loss: 0.0020 - val_loss: 0.0101\n",
      "Epoch 16/100\n",
      "587/587 [==============================] - 2s 3ms/step - loss: 0.0020 - val_loss: 0.0107\n",
      "Epoch 17/100\n",
      "587/587 [==============================] - 2s 3ms/step - loss: 0.0022 - val_loss: 0.0090\n",
      "Epoch 18/100\n",
      "587/587 [==============================] - 2s 3ms/step - loss: 0.0018 - val_loss: 0.0077\n",
      "Epoch 19/100\n",
      "587/587 [==============================] - 2s 3ms/step - loss: 0.0022 - val_loss: 0.0075\n",
      "Epoch 20/100\n",
      "587/587 [==============================] - 2s 3ms/step - loss: 0.0019 - val_loss: 0.0083\n",
      "Epoch 21/100\n",
      "587/587 [==============================] - 2s 3ms/step - loss: 0.0020 - val_loss: 0.0095\n",
      "Epoch 22/100\n",
      "587/587 [==============================] - 2s 3ms/step - loss: 0.0018 - val_loss: 0.0089\n",
      "Epoch 23/100\n",
      "587/587 [==============================] - 2s 3ms/step - loss: 0.0022 - val_loss: 0.0082\n",
      "Epoch 24/100\n",
      "587/587 [==============================] - 2s 3ms/step - loss: 0.0019 - val_loss: 0.0089\n",
      "Epoch 25/100\n",
      "587/587 [==============================] - 2s 3ms/step - loss: 0.0018 - val_loss: 0.0087\n",
      "Epoch 26/100\n",
      "587/587 [==============================] - 2s 3ms/step - loss: 0.0021 - val_loss: 0.0080\n",
      "Epoch 27/100\n",
      "587/587 [==============================] - 2s 3ms/step - loss: 0.0022 - val_loss: 0.0078\n",
      "Epoch 28/100\n",
      "587/587 [==============================] - 2s 3ms/step - loss: 0.0017 - val_loss: 0.0080\n",
      "Epoch 29/100\n",
      "587/587 [==============================] - 2s 3ms/step - loss: 0.0017 - val_loss: 0.0080\n",
      "Epoch 30/100\n",
      "587/587 [==============================] - 2s 3ms/step - loss: 0.0025 - val_loss: 0.0090\n",
      "Epoch 31/100\n",
      "587/587 [==============================] - 2s 3ms/step - loss: 0.0019 - val_loss: 0.0081\n",
      "Epoch 32/100\n",
      "587/587 [==============================] - 3s 4ms/step - loss: 0.0019 - val_loss: 0.0088\n",
      "Epoch 33/100\n",
      "587/587 [==============================] - 2s 4ms/step - loss: 0.0016 - val_loss: 0.0087\n",
      "Epoch 34/100\n",
      "587/587 [==============================] - 2s 3ms/step - loss: 0.0020 - val_loss: 0.0086\n",
      "Epoch 35/100\n",
      "587/587 [==============================] - 2s 3ms/step - loss: 0.0019 - val_loss: 0.0078\n",
      "Epoch 36/100\n",
      "587/587 [==============================] - 2s 3ms/step - loss: 0.0020 - val_loss: 0.0079\n",
      "Epoch 37/100\n",
      "587/587 [==============================] - 2s 3ms/step - loss: 0.0018 - val_loss: 0.0074\n",
      "Epoch 38/100\n",
      "587/587 [==============================] - 2s 3ms/step - loss: 0.0024 - val_loss: 0.0069\n",
      "Epoch 39/100\n",
      "587/587 [==============================] - 2s 3ms/step - loss: 0.0022 - val_loss: 0.0073\n",
      "Epoch 40/100\n",
      "587/587 [==============================] - 2s 3ms/step - loss: 0.0022 - val_loss: 0.0076\n",
      "Epoch 41/100\n",
      "587/587 [==============================] - 2s 3ms/step - loss: 0.0018 - val_loss: 0.0068\n",
      "Epoch 42/100\n",
      "587/587 [==============================] - 2s 3ms/step - loss: 0.0021 - val_loss: 0.0071\n",
      "Epoch 43/100\n",
      "587/587 [==============================] - 2s 3ms/step - loss: 0.0023 - val_loss: 0.0074\n",
      "Epoch 44/100\n",
      "587/587 [==============================] - 2s 3ms/step - loss: 0.0024 - val_loss: 0.0076\n",
      "Epoch 45/100\n",
      "587/587 [==============================] - 2s 4ms/step - loss: 0.0020 - val_loss: 0.0078\n",
      "Epoch 46/100\n",
      "587/587 [==============================] - 2s 4ms/step - loss: 0.0017 - val_loss: 0.0074\n",
      "Epoch 47/100\n",
      "587/587 [==============================] - 2s 3ms/step - loss: 0.0022 - val_loss: 0.0086\n",
      "Epoch 48/100\n",
      "587/587 [==============================] - 2s 3ms/step - loss: 0.0016 - val_loss: 0.0090\n",
      "Epoch 49/100\n",
      "587/587 [==============================] - 2s 3ms/step - loss: 0.0018 - val_loss: 0.0081\n",
      "Epoch 50/100\n",
      "587/587 [==============================] - 2s 3ms/step - loss: 0.0016 - val_loss: 0.0083\n",
      "Epoch 51/100\n",
      "587/587 [==============================] - 2s 4ms/step - loss: 0.0016 - val_loss: 0.0088\n",
      "Epoch 52/100\n",
      "587/587 [==============================] - 4s 6ms/step - loss: 0.0020 - val_loss: 0.0091\n",
      "Epoch 53/100\n",
      "587/587 [==============================] - 5s 8ms/step - loss: 0.0023 - val_loss: 0.0094\n",
      "Epoch 54/100\n",
      "587/587 [==============================] - 4s 7ms/step - loss: 0.0020 - val_loss: 0.0084\n",
      "Epoch 55/100\n",
      "587/587 [==============================] - 4s 7ms/step - loss: 0.0018 - val_loss: 0.0081\n",
      "Epoch 56/100\n",
      "587/587 [==============================] - 4s 7ms/step - loss: 0.0019 - val_loss: 0.0083\n",
      "Epoch 57/100\n",
      "587/587 [==============================] - 4s 7ms/step - loss: 0.0022 - val_loss: 0.0088\n",
      "Epoch 58/100\n",
      "587/587 [==============================] - 1s 2ms/step - loss: 0.0020 - val_loss: 0.0072\n",
      "Epoch 59/100\n",
      "587/587 [==============================] - 1s 2ms/step - loss: 0.0018 - val_loss: 0.0073\n",
      "Epoch 60/100\n",
      "587/587 [==============================] - 1s 2ms/step - loss: 0.0019 - val_loss: 0.0067\n",
      "Epoch 61/100\n",
      "587/587 [==============================] - 1s 2ms/step - loss: 0.0022 - val_loss: 0.0065\n",
      "Epoch 62/100\n",
      "587/587 [==============================] - 1s 2ms/step - loss: 0.0022 - val_loss: 0.0061\n",
      "Epoch 63/100\n",
      "587/587 [==============================] - 1s 2ms/step - loss: 0.0020 - val_loss: 0.0067\n",
      "Epoch 64/100\n",
      "587/587 [==============================] - 1s 2ms/step - loss: 0.0023 - val_loss: 0.0072\n",
      "Epoch 65/100\n",
      "587/587 [==============================] - 1s 2ms/step - loss: 0.0019 - val_loss: 0.0072\n",
      "Epoch 66/100\n",
      "587/587 [==============================] - 1s 2ms/step - loss: 0.0018 - val_loss: 0.0064\n",
      "Epoch 67/100\n",
      "587/587 [==============================] - 1s 2ms/step - loss: 0.0019 - val_loss: 0.0065\n",
      "Epoch 68/100\n",
      "587/587 [==============================] - 1s 2ms/step - loss: 0.0022 - val_loss: 0.0074\n",
      "Epoch 69/100\n",
      "587/587 [==============================] - 1s 2ms/step - loss: 0.0017 - val_loss: 0.0080\n",
      "Epoch 70/100\n",
      "587/587 [==============================] - 1s 2ms/step - loss: 0.0018 - val_loss: 0.0081\n",
      "Epoch 71/100\n",
      "587/587 [==============================] - 1s 2ms/step - loss: 0.0016 - val_loss: 0.0080\n",
      "Epoch 72/100\n",
      "587/587 [==============================] - 1s 2ms/step - loss: 0.0018 - val_loss: 0.0081\n",
      "Epoch 73/100\n",
      "587/587 [==============================] - 1s 2ms/step - loss: 0.0017 - val_loss: 0.0077\n",
      "Epoch 74/100\n",
      "587/587 [==============================] - 1s 2ms/step - loss: 0.0016 - val_loss: 0.0072\n",
      "Epoch 75/100\n",
      "587/587 [==============================] - 1s 2ms/step - loss: 0.0019 - val_loss: 0.0076\n",
      "Epoch 76/100\n",
      "587/587 [==============================] - 1s 2ms/step - loss: 0.0020 - val_loss: 0.0085\n",
      "Epoch 77/100\n",
      "587/587 [==============================] - 1s 2ms/step - loss: 0.0018 - val_loss: 0.0081\n",
      "Epoch 78/100\n",
      "587/587 [==============================] - 1s 3ms/step - loss: 0.0019 - val_loss: 0.0092\n",
      "Epoch 79/100\n",
      "587/587 [==============================] - 1s 2ms/step - loss: 0.0022 - val_loss: 0.0083\n",
      "Epoch 80/100\n",
      "587/587 [==============================] - 1s 2ms/step - loss: 0.0017 - val_loss: 0.0078\n",
      "Epoch 81/100\n",
      "587/587 [==============================] - 1s 2ms/step - loss: 0.0015 - val_loss: 0.0068\n",
      "Epoch 82/100\n",
      "587/587 [==============================] - 1s 2ms/step - loss: 0.0018 - val_loss: 0.0066\n",
      "Epoch 83/100\n",
      "587/587 [==============================] - 1s 2ms/step - loss: 0.0023 - val_loss: 0.0066\n",
      "Epoch 84/100\n",
      "587/587 [==============================] - 1s 2ms/step - loss: 0.0020 - val_loss: 0.0072\n",
      "Epoch 85/100\n",
      "587/587 [==============================] - 1s 2ms/step - loss: 0.0019 - val_loss: 0.0069\n",
      "Epoch 86/100\n",
      "587/587 [==============================] - 1s 2ms/step - loss: 0.0016 - val_loss: 0.0063\n",
      "Epoch 87/100\n",
      "587/587 [==============================] - 1s 2ms/step - loss: 0.0019 - val_loss: 0.0074\n",
      "Epoch 88/100\n",
      "587/587 [==============================] - 1s 2ms/step - loss: 0.0018 - val_loss: 0.0072\n",
      "Epoch 89/100\n",
      "587/587 [==============================] - 1s 2ms/step - loss: 0.0023 - val_loss: 0.0076\n",
      "Epoch 90/100\n",
      "587/587 [==============================] - 1s 2ms/step - loss: 0.0017 - val_loss: 0.0080\n",
      "Epoch 91/100\n",
      "587/587 [==============================] - 1s 2ms/step - loss: 0.0020 - val_loss: 0.0082\n",
      "Epoch 92/100\n",
      "587/587 [==============================] - 1s 2ms/step - loss: 0.0014 - val_loss: 0.0083\n",
      "Epoch 93/100\n",
      "587/587 [==============================] - 1s 2ms/step - loss: 0.0017 - val_loss: 0.0084\n",
      "Epoch 94/100\n",
      "587/587 [==============================] - 1s 2ms/step - loss: 0.0015 - val_loss: 0.0079\n",
      "Epoch 95/100\n",
      "587/587 [==============================] - 1s 2ms/step - loss: 0.0015 - val_loss: 0.0075\n",
      "Epoch 96/100\n",
      "587/587 [==============================] - 2s 3ms/step - loss: 0.0019 - val_loss: 0.0071\n",
      "Epoch 97/100\n",
      "587/587 [==============================] - 1s 2ms/step - loss: 0.0021 - val_loss: 0.0081\n",
      "Epoch 98/100\n",
      "587/587 [==============================] - 1s 3ms/step - loss: 0.0016 - val_loss: 0.0085\n",
      "Epoch 99/100\n",
      "587/587 [==============================] - 2s 3ms/step - loss: 0.0017 - val_loss: 0.0088\n",
      "Epoch 100/100\n",
      "587/587 [==============================] - 1s 3ms/step - loss: 0.0019 - val_loss: 0.0084\n"
     ]
    }
   ],
   "source": [
    "model = Sequential()\n",
    "model.add(LSTM(64, input_shape=(trainX.shape[1], trainX.shape[2])))\n",
    "model.add(Dense(1))\n",
    "\n",
    "model.compile(loss='mae', optimizer='adam')\n",
    "history = model.fit(trainX, trainY, epochs=100, batch_size=20, validation_data=(testX, testY), verbose=1, shuffle=False)"
   ]
  },
  {
   "cell_type": "markdown",
   "metadata": {},
   "source": [
    "## Plotting training and validation loss"
   ]
  },
  {
   "cell_type": "code",
   "execution_count": 52,
   "metadata": {},
   "outputs": [
    {
     "data": {
      "image/png": "[encoded data removed]",
      "text/plain": [
       "<Figure size 640x480 with 1 Axes>"
      ]
     },
     "metadata": {},
     "output_type": "display_data"
    }
   ],
   "source": [
    "plt.plot(history.history['loss'], label='train')\n",
    "plt.plot(history.history['val_loss'], label='test')\n",
    "plt.legend()\n",
    "plt.show()"
   ]
  },
  {
   "cell_type": "markdown",
   "metadata": {},
   "source": [
    "## Making Predictions"
   ]
  },
  {
   "cell_type": "code",
   "execution_count": 71,
   "metadata": {},
   "outputs": [
    {
     "name": "stdout",
     "output_type": "stream",
     "text": [
      "367/367 [==============================] - 0s 763us/step\n",
      "367/367 [==============================] - 0s 1ms/step\n"
     ]
    }
   ],
   "source": [
    "trainPredict = model.predict(trainX)\n",
    "testPredict = model.predict(testX)\n"
   ]
  },
  {
   "cell_type": "markdown",
   "metadata": {},
   "source": [
    "## Inverting Predictions"
   ]
  },
  {
   "cell_type": "code",
   "execution_count": 73,
   "metadata": {},
   "outputs": [
    {
     "name": "stdout",
     "output_type": "stream",
     "text": [
      "Shape of trainPredict before adjustment: (11738, 1)\n",
      "Shape of train[:, 1:] before adjustment: (11738, 1)\n",
      "Shape of trainPredict after adjustment: (11738, 1)\n",
      "Shape of train[:, 1:] after adjustment: (11738, 1)\n",
      "Shape of testPredict before adjustment: (11738, 1)\n",
      "Shape of test[:, 1:] before adjustment: (11738, 1)\n",
      "Shape of testPredict after adjustment: (11738, 1)\n",
      "Shape of test[:, 1:] after adjustment: (11738, 1)\n",
      "Inversion completed successfully.\n"
     ]
    }
   ],
   "source": [
    "# Debugging shapes\n",
    "print(\"Shape of trainPredict before adjustment:\", trainPredict.shape)\n",
    "print(\"Shape of train[:, 1:] before adjustment:\", train[:, 1:].shape)\n",
    "\n",
    "# Ensure trainPredict has the same number of rows as train[:, 1:]\n",
    "if trainPredict.shape[0] != train[:, 1:].shape[0]:\n",
    "    min_length = min(trainPredict.shape[0], train[:, 1:].shape[0])\n",
    "    print(f\"Adjusting trainPredict and train to minimum length: {min_length}\")\n",
    "    trainPredict = trainPredict[:min_length]\n",
    "    trainY = trainY[:min_length]\n",
    "    train = train[:min_length]\n",
    "\n",
    "# Debugging shapes after adjustment\n",
    "print(\"Shape of trainPredict after adjustment:\", trainPredict.shape)\n",
    "print(\"Shape of train[:, 1:] after adjustment:\", train[:, 1:].shape)\n",
    "\n",
    "# Inverting the predictions\n",
    "trainPredict = scaler.inverse_transform(np.concatenate((trainPredict, train[:, 1:]), axis=1))[:,0]\n",
    "trainY = scaler.inverse_transform(np.concatenate((trainY.reshape(-1, 1), train[:, 1:]), axis=1))[:,0]\n",
    "\n",
    "# Debugging shapes for test data\n",
    "print(\"Shape of testPredict before adjustment:\", testPredict.shape)\n",
    "print(\"Shape of test[:, 1:] before adjustment:\", test[:, 1:].shape)\n",
    "\n",
    "# Ensure testPredict has the same number of rows as test[:, 1:]\n",
    "if testPredict.shape[0] != test[:, 1:].shape[0]:\n",
    "    min_length = min(testPredict.shape[0], test[:, 1:].shape[0])\n",
    "    print(f\"Adjusting testPredict and test to minimum length: {min_length}\")\n",
    "    testPredict = testPredict[:min_length]\n",
    "    testY = testY[:min_length]\n",
    "    test = test[:min_length]\n",
    "\n",
    "# Debugging shapes after adjustment\n",
    "print(\"Shape of testPredict after adjustment:\", testPredict.shape)\n",
    "print(\"Shape of test[:, 1:] after adjustment:\", test[:, 1:].shape)\n",
    "\n",
    "# Inverting the test predictions\n",
    "testPredict = scaler.inverse_transform(np.concatenate((testPredict, test[:, 1:]), axis=1))[:,0]\n",
    "testY = scaler.inverse_transform(np.concatenate((testY.reshape(-1, 1), test[:, 1:]), axis=1))[:,0]\n",
    "\n",
    "print(\"Inversion completed successfully.\")\n"
   ]
  },
  {
   "cell_type": "markdown",
   "metadata": {},
   "source": [
    "## Error Metrics"
   ]
  },
  {
   "cell_type": "code",
   "execution_count": 74,
   "metadata": {},
   "outputs": [
    {
     "name": "stdout",
     "output_type": "stream",
     "text": [
      "Train Score: 0.036158 RMSE\n",
      "Test Score: 0.069851 RMSE\n"
     ]
    }
   ],
   "source": [
    "import math \n",
    "trainScore = math.sqrt(mean_squared_error(trainY, trainPredict))\n",
    "testScore = math.sqrt(mean_squared_error(testY, testPredict))\n",
    "print('Train Score: %.6f RMSE' % (trainScore))\n",
    "print('Test Score: %.6f RMSE' % (testScore))"
   ]
  },
  {
   "cell_type": "code",
   "execution_count": 75,
   "metadata": {},
   "outputs": [
    {
     "name": "stdout",
     "output_type": "stream",
     "text": [
      "Mean Absolute Error (MAE) for training set: 0.029428063958878065\n",
      "Mean Absolute Error (MAE) for test set: 0.06853216513254179\n"
     ]
    }
   ],
   "source": [
    "from sklearn.metrics import mean_absolute_error\n",
    "\n",
    "# Calculate MAE for training set\n",
    "train_mae = mean_absolute_error(trainY, trainPredict)\n",
    "print(f\"Mean Absolute Error (MAE) for training set: {train_mae}\")\n",
    "\n",
    "# Calculate MAE for test set\n",
    "test_mae = mean_absolute_error(testY, testPredict)\n",
    "print(f\"Mean Absolute Error (MAE) for test set: {test_mae}\")\n"
   ]
  },
  {
   "cell_type": "markdown",
   "metadata": {},
   "source": [
    "## Visualistaion"
   ]
  },
  {
   "cell_type": "code",
   "execution_count": 76,
   "metadata": {},
   "outputs": [
    {
     "data": {
      "image/png": "[encoded data removed]",
      "text/plain": [
       "<Figure size 640x480 with 1 Axes>"
      ]
     },
     "metadata": {},
     "output_type": "display_data"
    }
   ],
   "source": [
    "plt.plot(testPredict, label='Prediction')\n",
    "plt.plot(testY, label='Real data')\n",
    "plt.legend()\n",
    "plt.show()"
   ]
  },
  {
   "cell_type": "code",
   "execution_count": 77,
   "metadata": {},
   "outputs": [
    {
     "name": "stdout",
     "output_type": "stream",
     "text": [
      "Shape of cycle : (23478,)\n",
      "(11738,) (11738,)\n"
     ]
    }
   ],
   "source": [
    "print(\"Shape of cycle :\", np.shape(cycle))\n",
    "\n",
    "cycle1 = cycle[0:train_size-1]\n",
    "cycle2 = cycle[train_size+1:len(dataset)]\n",
    "\n",
    "# cycle1 = cycle[0:train_size]\n",
    "# cycle2 = cycle[train_size:len(dataset)]\n",
    "\n",
    "print(np.shape(cycle1), np.shape(cycle2))"
   ]
  }
 ],
 "metadata": {
  "kernelspec": {
   "display_name": "Python 3",
   "language": "python",
   "name": "python3"
  },
  "language_info": {
   "codemirror_mode": {
    "name": "ipython",
    "version": 3
   },
   "file_extension": ".py",
   "mimetype": "text/x-python",
   "name": "python",
   "nbconvert_exporter": "python",
   "pygments_lexer": "ipython3",
   "version": "3.10.12"
  }
 },
 "nbformat": 4,
 "nbformat_minor": 2
}
